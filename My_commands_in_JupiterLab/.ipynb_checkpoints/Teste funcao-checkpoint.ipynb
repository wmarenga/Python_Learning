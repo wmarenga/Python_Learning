{
 "cells": [
  {
   "cell_type": "code",
   "execution_count": 1,
   "id": "4764bbbe-4aeb-4afb-bb84-d3fac21114df",
   "metadata": {},
   "outputs": [],
   "source": [
    "import minhasfuncoes as mf"
   ]
  },
  {
   "cell_type": "code",
   "execution_count": 2,
   "id": "64988c67-3b76-4c6e-946c-10caf54ee688",
   "metadata": {
    "tags": []
   },
   "outputs": [
    {
     "data": {
      "text/plain": [
       "'crianca'"
      ]
     },
     "execution_count": 2,
     "metadata": {},
     "output_type": "execute_result"
    }
   ],
   "source": [
    "mf.faixaIdade(10)"
   ]
  },
  {
   "cell_type": "code",
   "execution_count": 3,
   "id": "e8c2d38b-fbc9-4c50-86ef-d2e6730a2135",
   "metadata": {},
   "outputs": [
    {
     "data": {
      "text/plain": [
       "'idoso'"
      ]
     },
     "execution_count": 3,
     "metadata": {},
     "output_type": "execute_result"
    }
   ],
   "source": [
    "mf.faixaIdade(81)"
   ]
  },
  {
   "cell_type": "code",
   "execution_count": 4,
   "id": "a0ba2d24-678c-4bf2-96e1-452b303c933c",
   "metadata": {},
   "outputs": [
    {
     "data": {
      "text/plain": [
       "'adulto'"
      ]
     },
     "execution_count": 4,
     "metadata": {},
     "output_type": "execute_result"
    }
   ],
   "source": [
    "mf.faixaIdade(35)"
   ]
  },
  {
   "cell_type": "code",
   "execution_count": 5,
   "id": "27410a09-49b8-4521-b6d5-4ad56e4085b1",
   "metadata": {},
   "outputs": [
    {
     "data": {
      "text/plain": [
       "20"
      ]
     },
     "execution_count": 5,
     "metadata": {},
     "output_type": "execute_result"
    }
   ],
   "source": [
    "mf.somaQuad(2,4)"
   ]
  }
 ],
 "metadata": {
  "kernelspec": {
   "display_name": "Python 3 (ipykernel)",
   "language": "python",
   "name": "python3"
  },
  "language_info": {
   "codemirror_mode": {
    "name": "ipython",
    "version": 3
   },
   "file_extension": ".py",
   "mimetype": "text/x-python",
   "name": "python",
   "nbconvert_exporter": "python",
   "pygments_lexer": "ipython3",
   "version": "3.9.7"
  }
 },
 "nbformat": 4,
 "nbformat_minor": 5
}
