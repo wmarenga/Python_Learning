{
 "cells": [
  {
   "cell_type": "code",
   "execution_count": 1,
   "metadata": {},
   "outputs": [],
   "source": [
    "import pandas as pd"
   ]
  },
  {
   "cell_type": "code",
   "execution_count": 5,
   "metadata": {},
   "outputs": [],
   "source": [
    "caminho_arquivo_Excel ='D:/23) Programação/Cursos/Python/4) Python para Iniciantes (Direto ao que interessa)/Aula 42 (Analise preliminar das bases)/caso_estudo.xlsx'\n",
    "dfClientes = pd.read_excel(caminho_arquivo_Excel, sheet_name='clientes')\n",
    "dfLojas = pd.read_excel(caminho_arquivo_Excel, sheet_name='lojas')\n",
    "dfProdutos = pd.read_excel(caminho_arquivo_Excel, sheet_name='produtos')\n",
    "dfVendas = pd.read_excel(caminho_arquivo_Excel, sheet_name='vendas')\n",
    "dfPag = pd.read_excel(caminho_arquivo_Excel, sheet_name='pagamentos')"
   ]
  },
  {
   "cell_type": "markdown",
   "metadata": {},
   "source": [
    "# Análise Preliminar"
   ]
  },
  {
   "cell_type": "code",
   "execution_count": null,
   "metadata": {},
   "outputs": [],
   "source": [
    "dfClientes.sample(5)"
   ]
  },
  {
   "cell_type": "code",
   "execution_count": null,
   "metadata": {},
   "outputs": [],
   "source": [
    "dfClientes.isnull().sum()"
   ]
  },
  {
   "cell_type": "code",
   "execution_count": null,
   "metadata": {},
   "outputs": [],
   "source": [
    "dfClientes[dfClientes.isnull().T.any()]"
   ]
  },
  {
   "cell_type": "code",
   "execution_count": null,
   "metadata": {},
   "outputs": [],
   "source": [
    "dfClientes.sexo.unique()"
   ]
  },
  {
   "cell_type": "code",
   "execution_count": null,
   "metadata": {},
   "outputs": [],
   "source": [
    "dfProdutos"
   ]
  },
  {
   "cell_type": "code",
   "execution_count": null,
   "metadata": {},
   "outputs": [],
   "source": [
    "dfProdutos.boxplot(column=['valor'])"
   ]
  },
  {
   "cell_type": "code",
   "execution_count": null,
   "metadata": {},
   "outputs": [],
   "source": [
    "dfProdutos[dfProdutos.valor>3000000]"
   ]
  },
  {
   "cell_type": "code",
   "execution_count": null,
   "metadata": {},
   "outputs": [],
   "source": [
    "dfProdutos[dfProdutos.valor < 3000000].boxplot(column=['valor'])"
   ]
  },
  {
   "cell_type": "code",
   "execution_count": null,
   "metadata": {},
   "outputs": [],
   "source": [
    "dfVendas[dfVendas.id_produto==10].count()"
   ]
  },
  {
   "cell_type": "code",
   "execution_count": null,
   "metadata": {},
   "outputs": [],
   "source": [
    "dfVendas.describe()"
   ]
  },
  {
   "cell_type": "code",
   "execution_count": null,
   "metadata": {},
   "outputs": [],
   "source": [
    "dfPag.describe()"
   ]
  },
  {
   "cell_type": "markdown",
   "metadata": {},
   "source": [
    "# Data Cleanning"
   ]
  },
  {
   "cell_type": "markdown",
   "metadata": {},
   "source": [
    "## Dados Nulos"
   ]
  },
  {
   "cell_type": "code",
   "execution_count": null,
   "metadata": {},
   "outputs": [],
   "source": [
    "dfClientes.loc[dfClientes.nome.isnull(),'nome'] = 'Sem Nome'\n",
    "dfClientes.loc[dfClientes.sexo.isnull(),'sexo'] = 'O'\n",
    "dfClientes.loc[dfClientes.dt_nasc.isnull(),'dt_nasc'] = '1/1/2020'"
   ]
  },
  {
   "cell_type": "code",
   "execution_count": null,
   "metadata": {},
   "outputs": [],
   "source": [
    "dfClientes.loc[[269,287], :]"
   ]
  },
  {
   "cell_type": "code",
   "execution_count": null,
   "metadata": {},
   "outputs": [],
   "source": [
    "dfClientes.isnull().sum()"
   ]
  },
  {
   "cell_type": "code",
   "execution_count": null,
   "metadata": {},
   "outputs": [],
   "source": [
    "dfPag.isnull().sum()"
   ]
  },
  {
   "cell_type": "markdown",
   "metadata": {},
   "source": [
    "## Outliers"
   ]
  },
  {
   "cell_type": "code",
   "execution_count": null,
   "metadata": {},
   "outputs": [],
   "source": [
    "dfProdutos.loc[9,'valor'] = dfProdutos.valor[9]/10000\n",
    "dfProdutos"
   ]
  },
  {
   "cell_type": "code",
   "execution_count": null,
   "metadata": {},
   "outputs": [],
   "source": [
    "dfProdutos.boxplot(column=['valor'])"
   ]
  },
  {
   "cell_type": "markdown",
   "metadata": {},
   "source": [
    "## Consistência"
   ]
  },
  {
   "cell_type": "code",
   "execution_count": null,
   "metadata": {},
   "outputs": [],
   "source": [
    "dfVendas[~dfVendas.id_cliente.isin(dfClientes.id)]"
   ]
  },
  {
   "cell_type": "code",
   "execution_count": null,
   "metadata": {},
   "outputs": [],
   "source": [
    "dfVendas[~dfVendas.id_loja.isin(dfLojas.id)]"
   ]
  },
  {
   "cell_type": "code",
   "execution_count": null,
   "metadata": {},
   "outputs": [],
   "source": [
    "dfVendas[~dfVendas.id_produto.isin(dfProdutos.id)]"
   ]
  },
  {
   "cell_type": "code",
   "execution_count": null,
   "metadata": {},
   "outputs": [],
   "source": [
    "dfPag[~dfPag.id_venda.isin(dfVendas.id)]"
   ]
  },
  {
   "cell_type": "code",
   "execution_count": null,
   "metadata": {},
   "outputs": [],
   "source": [
    "dfVendas[~dfVendas.id.isin(dfPag.id_venda)].count()"
   ]
  },
  {
   "cell_type": "markdown",
   "metadata": {},
   "source": [
    "## Dados Duplicados"
   ]
  },
  {
   "cell_type": "code",
   "execution_count": null,
   "metadata": {},
   "outputs": [],
   "source": [
    "dfClientes[dfClientes.nome.duplicated()]"
   ]
  },
  {
   "cell_type": "code",
   "execution_count": null,
   "metadata": {},
   "outputs": [],
   "source": [
    "dfClientes[dfClientes.nome=='Anna Melo']"
   ]
  },
  {
   "cell_type": "code",
   "execution_count": null,
   "metadata": {},
   "outputs": [],
   "source": [
    "dfClientes.drop('id', axis=1).duplicated().sum()"
   ]
  },
  {
   "cell_type": "code",
   "execution_count": null,
   "metadata": {},
   "outputs": [],
   "source": [
    "dfProdutos.produto.duplicated().sum()"
   ]
  },
  {
   "cell_type": "code",
   "execution_count": null,
   "metadata": {},
   "outputs": [],
   "source": [
    "dfLojas.cidade.duplicated().sum()"
   ]
  },
  {
   "cell_type": "code",
   "execution_count": null,
   "metadata": {},
   "outputs": [],
   "source": [
    "dfVendas[dfVendas.drop('id', axis=1).duplicated()]"
   ]
  },
  {
   "cell_type": "code",
   "execution_count": null,
   "metadata": {},
   "outputs": [],
   "source": [
    "dfVendas[(dfVendas.id_cliente==559) & (dfVendas.id_loja==2) & (dfVendas.id_produto==5)]"
   ]
  },
  {
   "cell_type": "code",
   "execution_count": null,
   "metadata": {},
   "outputs": [],
   "source": [
    "dfPag.drop('id', axis=1).duplicated().sum()"
   ]
  },
  {
   "cell_type": "markdown",
   "metadata": {},
   "source": [
    "## Formato de dados"
   ]
  },
  {
   "cell_type": "code",
   "execution_count": null,
   "metadata": {},
   "outputs": [],
   "source": [
    "dfClientes.dt_nasc = pd.to_datetime(dfClientes.dt_nasc, format='%m/%d/%Y')\n",
    "dfClientes"
   ]
  },
  {
   "cell_type": "markdown",
   "metadata": {},
   "source": [
    "## Indexes"
   ]
  },
  {
   "cell_type": "code",
   "execution_count": null,
   "metadata": {},
   "outputs": [],
   "source": [
    "dfClientes = dfClientes.set_index('id')\n",
    "dfClientes"
   ]
  },
  {
   "cell_type": "code",
   "execution_count": null,
   "metadata": {},
   "outputs": [],
   "source": [
    "dfClientes.index"
   ]
  },
  {
   "cell_type": "code",
   "execution_count": null,
   "metadata": {},
   "outputs": [],
   "source": [
    "dfLojas = dfLojas.set_index('id')\n",
    "dfProdutos = dfProdutos.set_index('id')\n",
    "dfVendas = dfVendas.set_index('id')\n",
    "dfPag = dfPag.set_index('id')"
   ]
  },
  {
   "cell_type": "code",
   "execution_count": null,
   "metadata": {},
   "outputs": [],
   "source": [
    "dfProdutos.index"
   ]
  },
  {
   "cell_type": "markdown",
   "metadata": {},
   "source": [
    "# Data Fusion"
   ]
  },
  {
   "cell_type": "code",
   "execution_count": null,
   "metadata": {},
   "outputs": [],
   "source": [
    "df = dfVendas.join(dfClientes.add_prefix('cliente_'), on='id_cliente')\n",
    "df = df.join(dfLojas.add_prefix('loja_'), on='id_loja')\n",
    "df = df.join(dfProdutos.add_prefix('produto_'), on='id_produto')"
   ]
  },
  {
   "cell_type": "code",
   "execution_count": null,
   "metadata": {},
   "outputs": [],
   "source": [
    "df"
   ]
  },
  {
   "cell_type": "code",
   "execution_count": null,
   "metadata": {},
   "outputs": [],
   "source": [
    "dfClientes.loc[393]"
   ]
  },
  {
   "cell_type": "code",
   "execution_count": null,
   "metadata": {},
   "outputs": [],
   "source": [
    "df = df.join(dfPag.set_index('id_venda'))"
   ]
  },
  {
   "cell_type": "code",
   "execution_count": null,
   "metadata": {},
   "outputs": [],
   "source": [
    "df"
   ]
  },
  {
   "cell_type": "code",
   "execution_count": null,
   "metadata": {},
   "outputs": [],
   "source": [
    "df.isnull().sum()"
   ]
  },
  {
   "cell_type": "markdown",
   "metadata": {},
   "source": [
    "# Feature Engineering"
   ]
  },
  {
   "cell_type": "code",
   "execution_count": null,
   "metadata": {},
   "outputs": [],
   "source": [
    "df['pg'] = 1\n",
    "df.loc[df.dt_pgto.isnull(), 'pg'] = 0\n",
    "df"
   ]
  },
  {
   "cell_type": "code",
   "execution_count": null,
   "metadata": {},
   "outputs": [],
   "source": [
    "df['tempo_pg'] = (df.dt_pgto - df.dt_venda).dt.days\n",
    "df"
   ]
  },
  {
   "cell_type": "code",
   "execution_count": null,
   "metadata": {},
   "outputs": [],
   "source": [
    "import numpy as np\n",
    "df['cliente_idade'] = np.floor((pd.to_datetime('today') - df.cliente_dt_nasc)/np.timedelta64(1,'Y'))\n",
    "df"
   ]
  },
  {
   "cell_type": "markdown",
   "metadata": {},
   "source": [
    "# Análise de Vendas e Receitas"
   ]
  },
  {
   "cell_type": "markdown",
   "metadata": {},
   "source": [
    "## Lojas que mais vendem"
   ]
  },
  {
   "cell_type": "code",
   "execution_count": null,
   "metadata": {},
   "outputs": [],
   "source": [
    "graf_dados = df.groupby('loja_cidade').count().produto_valor.sort_values(ascending=False)\n",
    "graf_dados"
   ]
  },
  {
   "cell_type": "code",
   "execution_count": null,
   "metadata": {},
   "outputs": [],
   "source": [
    "import matplotlib.pyplot as plt\n",
    "plt.figure(figsize=(15,5))\n",
    "plt.bar(graf_dados.index, graf_dados.values)\n",
    "plt.title('Vendas por Loja')"
   ]
  },
  {
   "cell_type": "markdown",
   "metadata": {},
   "source": [
    "## Produtos que mais vendem"
   ]
  },
  {
   "cell_type": "code",
   "execution_count": null,
   "metadata": {},
   "outputs": [],
   "source": [
    "graf_dados = df.groupby('produto_produto').count().produto_valor.sort_values(ascending=False)\n",
    "graf_dados"
   ]
  },
  {
   "cell_type": "code",
   "execution_count": null,
   "metadata": {},
   "outputs": [],
   "source": [
    "plt.figure(figsize=(15,5))\n",
    "plt.bar(graf_dados.index, graf_dados.values)\n",
    "plt.title('Vendas por produto')"
   ]
  },
  {
   "cell_type": "markdown",
   "metadata": {},
   "source": [
    "## Receita por Loja"
   ]
  },
  {
   "cell_type": "code",
   "execution_count": null,
   "metadata": {},
   "outputs": [],
   "source": [
    "graf_dados = df[['loja_cidade','produto_valor']].groupby('loja_cidade').sum().produto_valor.sort_values(ascending=False)\n",
    "graf_dados"
   ]
  },
  {
   "cell_type": "code",
   "execution_count": null,
   "metadata": {},
   "outputs": [],
   "source": [
    "plt.figure(figsize=(15,5))\n",
    "plt.bar(graf_dados.index, graf_dados.values)\n",
    "plt.title('Receita por Loja')"
   ]
  },
  {
   "cell_type": "code",
   "execution_count": null,
   "metadata": {},
   "outputs": [],
   "source": [
    "print('O maior valor é %i, sendo %.2f vezes a média dos demais, que é %i' % (graf_dados.max(), graf_dados.max()/graf_dados[graf_dados!=graf_dados.max()].mean(), graf_dados[graf_dados!=graf_dados.max()].mean()))"
   ]
  },
  {
   "cell_type": "markdown",
   "metadata": {},
   "source": [
    "## Receita por produto"
   ]
  },
  {
   "cell_type": "code",
   "execution_count": null,
   "metadata": {},
   "outputs": [],
   "source": [
    "graf_dados = df[['produto_produto','produto_valor']].groupby('produto_produto').sum().produto_valor.sort_values(ascending=False)\n",
    "graf_dados"
   ]
  },
  {
   "cell_type": "code",
   "execution_count": null,
   "metadata": {},
   "outputs": [],
   "source": [
    "plt.figure(figsize=(15,5))\n",
    "plt.bar(graf_dados.index, graf_dados.values)\n",
    "plt.title('Receita por produto')"
   ]
  },
  {
   "cell_type": "markdown",
   "metadata": {},
   "source": [
    "## Subplots"
   ]
  },
  {
   "cell_type": "code",
   "execution_count": null,
   "metadata": {},
   "outputs": [],
   "source": [
    "plt.figure(figsize=(10,7))\n",
    "\n",
    "plt.subplot(2,2,1)\n",
    "graf_dados = df.groupby('loja_cidade').count().produto_valor.sort_values(ascending=False)\n",
    "plt.bar(graf_dados.index, graf_dados.values)\n",
    "plt.title('Vendas por Loja')\n",
    "plt.xticks(rotation=90)\n",
    "\n",
    "plt.subplot(2,2,2)\n",
    "graf_dados = df.groupby('produto_produto').count().produto_valor.sort_values(ascending=False)\n",
    "plt.bar(graf_dados.index, graf_dados.values)\n",
    "plt.title('Vendas por produto')\n",
    "plt.xticks(rotation=90)\n",
    "\n",
    "plt.subplot(2,2,3)\n",
    "graf_dados = df[['loja_cidade','produto_valor']].groupby('loja_cidade').sum().produto_valor.sort_values(ascending=False)\n",
    "plt.bar(graf_dados.index, graf_dados.values)\n",
    "plt.title('Receita por Loja')\n",
    "plt.xticks(rotation=90)\n",
    "\n",
    "plt.subplot(2,2,4)\n",
    "graf_dados = df[['produto_produto','produto_valor']].groupby('produto_produto').sum().produto_valor.sort_values(ascending=False)\n",
    "plt.bar(graf_dados.index, graf_dados.values)\n",
    "plt.title('Receita por produto')\n",
    "plt.xticks(rotation=90)\n",
    "\n",
    "plt.tight_layout()"
   ]
  },
  {
   "cell_type": "markdown",
   "metadata": {},
   "source": [
    "## Receita por cliente"
   ]
  },
  {
   "cell_type": "code",
   "execution_count": null,
   "metadata": {},
   "outputs": [],
   "source": [
    "graf_dados = df[['cliente_nome','produto_valor']].groupby('cliente_nome').sum().produto_valor.sort_values(ascending=False)\n",
    "graf_dados"
   ]
  },
  {
   "cell_type": "code",
   "execution_count": null,
   "metadata": {},
   "outputs": [],
   "source": [
    "plt.figure(figsize=(15,5))\n",
    "plt.plot(graf_dados.index, graf_dados.values)\n",
    "plt.title('Receita por Cliente')"
   ]
  },
  {
   "cell_type": "code",
   "execution_count": null,
   "metadata": {},
   "outputs": [],
   "source": [
    "from matplotlib.ticker import PercentFormatter\n",
    "\n",
    "fig, ax = plt.subplots(figsize=(15,5))\n",
    "ax.plot(graf_dados.index, graf_dados.values, color='C0')\n",
    "ax2 = ax.twinx()\n",
    "ax2.plot(graf_dados.index, graf_dados.values.cumsum()/graf_dados.values.sum()*100, color='C1')\n",
    "ax2.yaxis.set_major_formatter(PercentFormatter())\n",
    "ax2.axes.get_xaxis().set_visible(False)\n",
    "ax.axes.get_xaxis().set_visible(False)\n",
    "plt.title('Receita por Cliente')"
   ]
  },
  {
   "cell_type": "code",
   "execution_count": null,
   "metadata": {},
   "outputs": [],
   "source": [
    "receita_acumulada = graf_dados.cumsum()/graf_dados.sum()\n",
    "receita_acumulada[receita_acumulada<0.60].count()/receita_acumulada.count()"
   ]
  },
  {
   "cell_type": "markdown",
   "metadata": {},
   "source": [
    "## Pareto"
   ]
  },
  {
   "cell_type": "code",
   "execution_count": null,
   "metadata": {},
   "outputs": [],
   "source": [
    "graf_dados = df[['produto_produto','produto_valor']].groupby('produto_produto').sum().produto_valor.sort_values(ascending=False)\n",
    "fig, ax = plt.subplots(figsize=(15,5))\n",
    "ax.bar(graf_dados.index, graf_dados.values, color='C0')\n",
    "ax2 = ax.twinx()\n",
    "ax2.plot(graf_dados.index, graf_dados.values.cumsum()/graf_dados.values.sum()*100, color='C1', marker='D')\n",
    "ax2.yaxis.set_major_formatter(PercentFormatter())\n",
    "plt.ylim(0,110)\n",
    "plt.title('Pareto de receita por produto')"
   ]
  },
  {
   "cell_type": "markdown",
   "metadata": {},
   "source": [
    "## Receita combinando produto-loja"
   ]
  },
  {
   "cell_type": "code",
   "execution_count": null,
   "metadata": {},
   "outputs": [],
   "source": [
    "graf_dados = pd.DataFrame(columns=('loja','produto','receita'))\n",
    "for cidade in dfLojas.cidade:\n",
    "    for produto in dfProdutos.produto:\n",
    "        graf_dados = graf_dados.append({\n",
    "            'loja': cidade,\n",
    "            'produto': produto,\n",
    "            'receita': df.produto_valor[(df.loja_cidade == cidade) & (df.produto_produto==produto)].sum()\n",
    "        }, ignore_index=True)\n",
    "graf_dados"
   ]
  },
  {
   "cell_type": "code",
   "execution_count": null,
   "metadata": {},
   "outputs": [],
   "source": [
    "import seaborn as sns\n",
    "graf_dados = graf_dados.pivot_table(index='loja', columns='produto', values='receita', aggfunc='sum')\n",
    "sns.heatmap(graf_dados)"
   ]
  },
  {
   "cell_type": "code",
   "execution_count": null,
   "metadata": {},
   "outputs": [],
   "source": [
    "graf_dados = pd.DataFrame(columns=('loja','produto','receita'))\n",
    "for cidade in dfLojas.cidade:\n",
    "    for produto in dfProdutos.produto:\n",
    "        graf_dados = graf_dados.append({\n",
    "            'loja': cidade,\n",
    "            'produto': produto,\n",
    "            'receita': df.produto_valor[(df.loja_cidade == cidade) & (df.produto_produto==produto)].sum()\n",
    "        }, ignore_index=True)\n",
    "graf_dados = graf_dados.sort_values(by=\"receita\", ascending=False)\n",
    "graf_dados"
   ]
  },
  {
   "cell_type": "code",
   "execution_count": null,
   "metadata": {},
   "outputs": [],
   "source": [
    "graf_dados['lojaprod'] = graf_dados.loja + '-' + graf_dados.produto\n",
    "graf_dados"
   ]
  },
  {
   "cell_type": "code",
   "execution_count": null,
   "metadata": {},
   "outputs": [],
   "source": [
    "plt.figure(figsize=(15,5))\n",
    "plt.bar(graf_dados.lojaprod[graf_dados.receita>0.01*graf_dados.receita.max()], graf_dados.receita[graf_dados.receita>0.01*graf_dados.receita.max()])\n",
    "plt.xticks(rotation=90)\n",
    "plt.title('Receita por loja-produto')\n",
    "plt.show()"
   ]
  },
  {
   "cell_type": "code",
   "execution_count": null,
   "metadata": {},
   "outputs": [],
   "source": [
    "import warnings\n",
    "warnings.filterwarnings(\"ignore\")"
   ]
  },
  {
   "cell_type": "markdown",
   "metadata": {},
   "source": [
    "# Análise de tempo"
   ]
  },
  {
   "cell_type": "markdown",
   "metadata": {},
   "source": [
    "## Tempo médio de pagamento"
   ]
  },
  {
   "cell_type": "code",
   "execution_count": null,
   "metadata": {},
   "outputs": [],
   "source": [
    "df.tempo_pg.mean()"
   ]
  },
  {
   "cell_type": "code",
   "execution_count": null,
   "metadata": {},
   "outputs": [],
   "source": [
    "df.boxplot('tempo_pg')\n",
    "plt.title('Boxplot para tempo de pagamento')"
   ]
  },
  {
   "cell_type": "code",
   "execution_count": null,
   "metadata": {},
   "outputs": [],
   "source": [
    "import seaborn as sns\n",
    "sns.histplot(data=df.tempo_pg, kde=True)\n",
    "plt.title('Histograma para tempo de pagamento')"
   ]
  },
  {
   "cell_type": "code",
   "execution_count": null,
   "metadata": {},
   "outputs": [],
   "source": [
    "df.tempo_pg.describe()"
   ]
  },
  {
   "cell_type": "markdown",
   "metadata": {},
   "source": [
    "## Tempo de pagamento por cidade e produto"
   ]
  },
  {
   "cell_type": "code",
   "execution_count": null,
   "metadata": {},
   "outputs": [],
   "source": [
    "df.groupby('loja_cidade').mean().tempo_pg"
   ]
  },
  {
   "cell_type": "code",
   "execution_count": null,
   "metadata": {},
   "outputs": [],
   "source": [
    "plt.figure(figsize=(7,4))\n",
    "df[['loja_cidade','tempo_pg']].groupby('loja_cidade').boxplot('tempo_pg')\n",
    "plt.title('Boxplot para tempo de pagamento por cidade')\n",
    "plt.xticks(rotation=90)\n",
    "plt.show()"
   ]
  },
  {
   "cell_type": "code",
   "execution_count": null,
   "metadata": {},
   "outputs": [],
   "source": [
    "df.groupby('produto_produto').tempo_pg.mean()"
   ]
  },
  {
   "cell_type": "code",
   "execution_count": null,
   "metadata": {},
   "outputs": [],
   "source": [
    "plt.figure(figsize=(7,4))\n",
    "df[['produto_produto','tempo_pg']].groupby('produto_produto').boxplot('tempo_pg')\n",
    "plt.title('Boxplt para tempo de pagamento por produto')\n",
    "plt.xticks(rotation=90)\n",
    "plt.show()"
   ]
  },
  {
   "cell_type": "markdown",
   "metadata": {},
   "source": [
    "## Sazonalidade"
   ]
  },
  {
   "cell_type": "code",
   "execution_count": null,
   "metadata": {},
   "outputs": [],
   "source": [
    "#plotar média móvel da receita\n",
    "plt.figure(figsize=(15,5))\n",
    "graf_dados = df[['produto_valor','dt_venda']].groupby('dt_venda').sum().rolling(30).mean()\n",
    "plt.plot(graf_dados.index, graf_dados.values)\n",
    "plt.title('Média móvel (30 dias) de receita')\n",
    "plt.show()"
   ]
  },
  {
   "cell_type": "code",
   "execution_count": null,
   "metadata": {},
   "outputs": [],
   "source": [
    "#plotar média móvel da receita por cidade\n",
    "fig, ax = plt.subplots(figsize=(15,5))\n",
    "graf_dados = df[['produto_valor','loja_cidade','dt_venda']].groupby(['dt_venda','loja_cidade']).sum().rolling(30).mean().unstack().plot(ax=ax)"
   ]
  },
  {
   "cell_type": "code",
   "execution_count": null,
   "metadata": {},
   "outputs": [],
   "source": [
    "#plotar média móvel da receita por produto\n",
    "fig, ax = plt.subplots(figsize=(15,5))\n",
    "graf_dados = df[['produto_valor','produto_produto','dt_venda']].groupby(['dt_venda','produto_produto']).sum().rolling(30).mean().unstack().plot(ax=ax)"
   ]
  },
  {
   "cell_type": "code",
   "execution_count": null,
   "metadata": {},
   "outputs": [],
   "source": [
    "# criando uma nova coluna contendo o ano da venda\n",
    "df['venda_ano'] = pd.DatetimeIndex(df.dt_venda).year"
   ]
  },
  {
   "cell_type": "code",
   "execution_count": null,
   "metadata": {},
   "outputs": [],
   "source": [
    "# tendencia de receita por ano\n",
    "fig, ax = plt.subplots(figsize=(15,5))\n",
    "graf_dados = df[['produto_valor','venda_ano']].groupby(['venda_ano']).sum().unstack().plot(ax=ax)"
   ]
  },
  {
   "cell_type": "code",
   "execution_count": null,
   "metadata": {},
   "outputs": [],
   "source": [
    "# tendência por produto\n",
    "fig, ax = plt.subplots(figsize=(15,5))\n",
    "graf_dados = df[['produto_valor','produto_produto','venda_ano']].groupby(['venda_ano','produto_produto']).sum().unstack().plot.bar(ax=ax)"
   ]
  },
  {
   "cell_type": "code",
   "execution_count": null,
   "metadata": {},
   "outputs": [],
   "source": [
    "# tendência por cidade\n",
    "fig, ax = plt.subplots(figsize=(15,5))\n",
    "df[['produto_valor','loja_cidade','venda_ano']].groupby(['venda_ano','loja_cidade']).sum().unstack().plot.bar(ax=ax)"
   ]
  },
  {
   "cell_type": "markdown",
   "metadata": {},
   "source": [
    "## Tempo médio de pagamento por promoção"
   ]
  },
  {
   "cell_type": "code",
   "execution_count": null,
   "metadata": {},
   "outputs": [],
   "source": [
    "#lendo arquivo CSV\n",
    "dfPromo = pd.read_csv('caso_estudo_venda_promocao.csv', sep=\";\")\n",
    "#definir index\n",
    "dfPromo = dfPromo.set_index('id_venda')\n",
    "#join entre df e dfPromo\n",
    "df = df.join(dfPromo)\n",
    "df"
   ]
  },
  {
   "cell_type": "code",
   "execution_count": null,
   "metadata": {},
   "outputs": [],
   "source": [
    "graf_dados = df[['promoção','tempo_pg']][~df.tempo_pg.isnull()]\n",
    "graf_dados.groupby('promoção').boxplot(column=['tempo_pg'])\n",
    "plt.show()"
   ]
  },
  {
   "cell_type": "code",
   "execution_count": null,
   "metadata": {},
   "outputs": [],
   "source": [
    "sns.histplot(data=graf_dados.tempo_pg[graf_dados['promoção']==0], kde=True)\n",
    "plt.title('Tempo médio de pagamento para casos sem promoção')\n",
    "plt.show()"
   ]
  },
  {
   "cell_type": "code",
   "execution_count": null,
   "metadata": {},
   "outputs": [],
   "source": [
    "sns.histplot(data=graf_dados.tempo_pg[graf_dados['promoção']==1], kde=True)\n",
    "plt.title('Tempo médio de pagamento para casos com promoção')\n",
    "plt.show()"
   ]
  },
  {
   "cell_type": "markdown",
   "metadata": {},
   "source": [
    "# Análise de inadimplência"
   ]
  },
  {
   "cell_type": "markdown",
   "metadata": {},
   "source": [
    "## Inadimplência por Loja"
   ]
  },
  {
   "cell_type": "code",
   "execution_count": null,
   "metadata": {},
   "outputs": [],
   "source": [
    "plt.figure(figsize=(15,5))\n",
    "\n",
    "plt.subplot(1,2,1)\n",
    "graf_dados = df[df.pg==0].groupby('loja_cidade').count().produto_valor.sort_values(ascending=False)\n",
    "plt.bar(graf_dados.index, graf_dados.values)\n",
    "plt.title('Inadimplência por lojas')\n",
    "plt.xticks(rotation=90)\n",
    "\n",
    "plt.subplot(1,2,2)\n",
    "graf_dados = df.groupby('loja_cidade').mean().pg.sort_values(ascending=False)\n",
    "plt.bar(graf_dados.index, graf_dados.values)\n",
    "plt.title('Porcentagem de pagamento por loja')\n",
    "plt.xticks(rotation=90)\n",
    "\n",
    "plt.show()"
   ]
  },
  {
   "cell_type": "markdown",
   "metadata": {},
   "source": [
    "## Inadimplência por produto"
   ]
  },
  {
   "cell_type": "code",
   "execution_count": null,
   "metadata": {},
   "outputs": [],
   "source": [
    "plt.figure(figsize=(15,5))\n",
    "plt.subplot(1,2,1)\n",
    "graf_dados = df[df.pg==0].groupby('produto_produto').count().produto_valor.sort_values(ascending=False)\n",
    "plt.bar(graf_dados.index, graf_dados.values)\n",
    "plt.xticks(rotation=90)\n",
    "plt.title('Inadimplência por produto')\n",
    "\n",
    "plt.subplot(1,2,2)\n",
    "graf_dados = df.groupby('produto_produto').mean().pg.sort_values(ascending=False)\n",
    "plt.bar(graf_dados.index, graf_dados.values)\n",
    "plt.xticks(rotation=90)\n",
    "plt.title('Porcentagem de pagamento por produto')\n",
    "                        \n",
    "plt.show()"
   ]
  },
  {
   "cell_type": "markdown",
   "metadata": {},
   "source": [
    "## Inadimplência por idade"
   ]
  },
  {
   "cell_type": "code",
   "execution_count": null,
   "metadata": {},
   "outputs": [],
   "source": [
    "graf_dados = df[['cliente_idade','pg']].groupby('cliente_idade').mean().sort_values('cliente_idade')\n",
    "graf_dados.plot()"
   ]
  },
  {
   "cell_type": "code",
   "execution_count": null,
   "metadata": {},
   "outputs": [],
   "source": [
    "df[df.cliente_idade<1]"
   ]
  },
  {
   "cell_type": "markdown",
   "metadata": {},
   "source": [
    "## Mapa de calor de inadimplência"
   ]
  },
  {
   "cell_type": "code",
   "execution_count": null,
   "metadata": {},
   "outputs": [],
   "source": [
    "import seaborn as sns\n",
    "graf_dados = df.pivot_table(index='produto_produto', columns='loja_cidade', values='pg', aggfunc='mean')\n",
    "sns.heatmap(graf_dados, annot=True)\n",
    "plt.show()"
   ]
  },
  {
   "cell_type": "code",
   "execution_count": null,
   "metadata": {},
   "outputs": [],
   "source": [
    "import seaborn as sns\n",
    "graf_dados = df.pivot_table(index='loja_cidade', columns='cliente_idade', values='pg', aggfunc='mean')\n",
    "sns.heatmap(graf_dados)\n",
    "plt.show()"
   ]
  },
  {
   "cell_type": "code",
   "execution_count": null,
   "metadata": {},
   "outputs": [],
   "source": [
    "df"
   ]
  },
  {
   "cell_type": "markdown",
   "metadata": {},
   "source": [
    "# Machine Learning"
   ]
  },
  {
   "cell_type": "markdown",
   "metadata": {},
   "source": [
    "## Alvo"
   ]
  },
  {
   "cell_type": "code",
   "execution_count": null,
   "metadata": {},
   "outputs": [],
   "source": [
    "dfML = df[['cliente_sexo','loja_cidade','produto_produto','produto_valor','cliente_idade','promoção','pg']]\n",
    "dfML = dfML.replace([' ','-'],'_', regex=True)\n",
    "dfML"
   ]
  },
  {
   "cell_type": "markdown",
   "metadata": {},
   "source": [
    "## Normalização"
   ]
  },
  {
   "cell_type": "code",
   "execution_count": null,
   "metadata": {},
   "outputs": [],
   "source": [
    "dfML['produto_valor'] = dfML['produto_valor']/dfML['produto_valor'].max()\n",
    "dfML['cliente_idade'] = dfML['cliente_idade']/dfML['cliente_idade'].max()\n",
    "dfML"
   ]
  },
  {
   "cell_type": "markdown",
   "metadata": {},
   "source": [
    "## Dados categóricos"
   ]
  },
  {
   "cell_type": "code",
   "execution_count": null,
   "metadata": {},
   "outputs": [],
   "source": [
    "col_cat = ['cliente_sexo','loja_cidade','produto_produto','promoção']\n",
    "dfML_dummies = pd.get_dummies(dfML[col_cat].astype(str), drop_first=False)\n",
    "dfML_dummies"
   ]
  },
  {
   "cell_type": "code",
   "execution_count": null,
   "metadata": {},
   "outputs": [],
   "source": [
    "dfML = pd.concat([dfML, dfML_dummies], axis=1) \n",
    "dfML = dfML.drop(col_cat, axis=1)\n",
    "dfML"
   ]
  },
  {
   "cell_type": "markdown",
   "metadata": {},
   "source": [
    "## Dados de treinamento e de teste"
   ]
  },
  {
   "cell_type": "code",
   "execution_count": null,
   "metadata": {},
   "outputs": [],
   "source": [
    "from sklearn.model_selection import train_test_split\n",
    "from sklearn.metrics import roc_auc_score, roc_curve, classification_report,accuracy_score\n",
    "from sklearn.metrics import recall_score, precision_score, f1_score, confusion_matrix, auc\n",
    "\n",
    "y = dfML.pg\n",
    "X = dfML.drop(['pg'], axis=1)\n",
    "X_train, X_test, y_train, y_test = train_test_split(X, y, test_size=0.3, random_state=42)\n",
    "\n",
    "X_new = X.loc[[2997,2998]]\n",
    "X_new"
   ]
  },
  {
   "cell_type": "markdown",
   "metadata": {},
   "source": [
    "## Regressão Logística"
   ]
  },
  {
   "cell_type": "code",
   "execution_count": null,
   "metadata": {},
   "outputs": [],
   "source": [
    "import statsmodels.api as sm\n",
    "import statsmodels.formula.api as smf\n",
    "from sklearn.linear_model import LogisticRegression\n",
    "\n",
    "all_col_with_plus = ' + '.join(dfML.drop(['pg'], axis=1).columns)\n",
    "modelo = smf.glm(formula='pg ~ ' + all_col_with_plus, data=dfML,\n",
    "                family = sm.families.Binomial()).fit()\n",
    "print(modelo.summary())"
   ]
  },
  {
   "cell_type": "code",
   "execution_count": null,
   "metadata": {},
   "outputs": [],
   "source": [
    "model = LogisticRegression(penalty='none', solver='newton-cg')\n",
    "model.fit(X_train, y_train)\n",
    "\n",
    "print('- Matriz de Confusão')\n",
    "print(confusion_matrix(y_test, model.predict(X_test)))\n",
    "print('\\n- Reporte completo')\n",
    "print(classification_report(y, model.predict(X)))\n",
    "print('\\n- Reporte teste')\n",
    "print(classification_report(y_test, model.predict(X_test)))"
   ]
  },
  {
   "cell_type": "code",
   "execution_count": null,
   "metadata": {},
   "outputs": [],
   "source": [
    "model.predict(X_new)"
   ]
  },
  {
   "cell_type": "markdown",
   "metadata": {},
   "source": [
    "## Árvore de Decisão"
   ]
  },
  {
   "cell_type": "code",
   "execution_count": null,
   "metadata": {},
   "outputs": [],
   "source": [
    "from sklearn.tree import DecisionTreeClassifier, plot_tree\n",
    "from sklearn import metrics, tree\n",
    "\n",
    "model = DecisionTreeClassifier(criterion=\"entropy\", max_depth=5)\n",
    "model = model.fit(X_train,y_train)\n",
    "fig = plt.figure(figsize=(20,10))\n",
    "_ = tree.plot_tree(model, \n",
    "                   feature_names=X.columns,  \n",
    "                   class_names=['targetNo','targetYes'],\n",
    "                   filled=True)"
   ]
  },
  {
   "cell_type": "code",
   "execution_count": null,
   "metadata": {},
   "outputs": [],
   "source": [
    "print('- Matriz de Confusão')\n",
    "print(confusion_matrix(y_test, model.predict(X_test)))\n",
    "print('\\n- Reporte completo')\n",
    "print(classification_report(y, model.predict(X)))\n",
    "print('\\n- Reporte teste')\n",
    "print(classification_report(y_test, model.predict(X_test)))"
   ]
  },
  {
   "cell_type": "code",
   "execution_count": null,
   "metadata": {},
   "outputs": [],
   "source": [
    "model.predict(X_new)"
   ]
  },
  {
   "cell_type": "markdown",
   "metadata": {},
   "source": [
    "## Redes Neurais"
   ]
  },
  {
   "cell_type": "code",
   "execution_count": null,
   "metadata": {},
   "outputs": [],
   "source": [
    "from keras import Sequential\n",
    "from keras.layers import Dense\n",
    "import keras\n",
    "import tensorflow\n",
    "tensorflow.random.set_seed(2)\n",
    "\n",
    "model = Sequential()\n",
    "model.add(Dense(15, activation='relu', kernel_initializer='random_normal', input_dim=len(X.columns)))\n",
    "model.add(Dense(7, activation='relu', kernel_initializer='random_normal'))\n",
    "model.add(Dense(3, activation='relu', kernel_initializer='random_normal'))\n",
    "model.add(Dense(3, activation='relu', kernel_initializer='random_normal'))\n",
    "model.add(Dense(1, activation='sigmoid', kernel_initializer='random_normal'))"
   ]
  },
  {
   "cell_type": "code",
   "execution_count": null,
   "metadata": {},
   "outputs": [],
   "source": [
    "model.compile(optimizer='adam', loss='binary_crossentropy', metrics=['accuracy'])\n",
    "model.fit(X_train,y_train, batch_size=128, epochs=300, verbose=False)"
   ]
  },
  {
   "cell_type": "code",
   "execution_count": null,
   "metadata": {},
   "outputs": [],
   "source": [
    "print('- Matriz de Confusão')\n",
    "print(confusion_matrix(y_test, model.predict_classes(X_test)))\n",
    "print('\\n- Reporte completo')\n",
    "print(classification_report(y, model.predict_classes(X)))\n",
    "print('\\n- Reporte teste')\n",
    "print(classification_report(y_test, model.predict_classes(X_test)))"
   ]
  },
  {
   "cell_type": "code",
   "execution_count": null,
   "metadata": {},
   "outputs": [],
   "source": [
    "model.predict(X_new)"
   ]
  },
  {
   "cell_type": "markdown",
   "metadata": {},
   "source": [
    "## XGBoost"
   ]
  },
  {
   "cell_type": "code",
   "execution_count": null,
   "metadata": {},
   "outputs": [],
   "source": [
    "from xgboost import XGBClassifier\n",
    "\n",
    "model = XGBClassifier()\n",
    "model.fit(X_train, y_train)"
   ]
  },
  {
   "cell_type": "code",
   "execution_count": null,
   "metadata": {},
   "outputs": [],
   "source": [
    "print('- Matriz de Confusão')\n",
    "print(confusion_matrix(y_test, model.predict(X_test)))\n",
    "print('\\n- Reporte completo')\n",
    "print(classification_report(y, model.predict(X)))\n",
    "print('\\n- Reporte teste')\n",
    "print(classification_report(y_test, model.predict(X_test)))"
   ]
  },
  {
   "cell_type": "code",
   "execution_count": null,
   "metadata": {},
   "outputs": [],
   "source": [
    "model.predict(X_new)"
   ]
  }
 ],
 "metadata": {
  "kernelspec": {
   "display_name": "Python 3 (ipykernel)",
   "language": "python",
   "name": "python3"
  },
  "language_info": {
   "codemirror_mode": {
    "name": "ipython",
    "version": 3
   },
   "file_extension": ".py",
   "mimetype": "text/x-python",
   "name": "python",
   "nbconvert_exporter": "python",
   "pygments_lexer": "ipython3",
   "version": "3.9.7"
  },
  "toc-autonumbering": false,
  "toc-showcode": false,
  "toc-showmarkdowntxt": false,
  "toc-showtags": false
 },
 "nbformat": 4,
 "nbformat_minor": 4
}
