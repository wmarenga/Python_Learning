{
 "cells": [
  {
   "cell_type": "markdown",
   "id": "908f8e93-e899-4034-97c6-f7cf833110a5",
   "metadata": {},
   "source": [
    "1) Lista (entre colchetes [] ) ** Pode ser alterada **"
   ]
  },
  {
   "cell_type": "code",
   "execution_count": 1,
   "id": "7e99c2ec-4d1c-4c86-bac3-1e44a1306507",
   "metadata": {},
   "outputs": [],
   "source": [
    "nomes = ['Rafael', 'Maria', 'Ana']\n",
    "idades = [10,20,15]"
   ]
  },
  {
   "cell_type": "code",
   "execution_count": 6,
   "id": "d1d3e93b-bb95-4cb5-a26b-e2db1d64bba4",
   "metadata": {},
   "outputs": [
    {
     "name": "stdout",
     "output_type": "stream",
     "text": [
      "Rafael\n",
      "Maria\n"
     ]
    }
   ],
   "source": [
    "print(nomes[0])\n",
    "print(nomes[1])"
   ]
  },
  {
   "cell_type": "code",
   "execution_count": 7,
   "id": "8ee65fcc-1ab1-4552-8f67-8f759a4e713e",
   "metadata": {},
   "outputs": [
    {
     "data": {
      "text/plain": [
       "10"
      ]
     },
     "execution_count": 7,
     "metadata": {},
     "output_type": "execute_result"
    }
   ],
   "source": [
    "idades[0]"
   ]
  },
  {
   "cell_type": "markdown",
   "id": "bb526462-8c66-464b-86a0-408558b078b1",
   "metadata": {},
   "source": [
    "2) Tuplas (entre parenteses () ) - ** nao pode ser alterada **"
   ]
  },
  {
   "cell_type": "code",
   "execution_count": 2,
   "id": "d8a19478-69ba-4e7b-b691-c650adfb9cee",
   "metadata": {},
   "outputs": [],
   "source": [
    "sexo = ('M','F','O')"
   ]
  },
  {
   "cell_type": "code",
   "execution_count": 8,
   "id": "da57d410-c470-4e20-9c2b-35675f5067d4",
   "metadata": {},
   "outputs": [
    {
     "data": {
      "text/plain": [
       "'M'"
      ]
     },
     "execution_count": 8,
     "metadata": {},
     "output_type": "execute_result"
    }
   ],
   "source": [
    "sexo[0]"
   ]
  },
  {
   "cell_type": "markdown",
   "id": "47084cd3-889b-4632-925f-3d9616829965",
   "metadata": {},
   "source": [
    "3) Dicionarios (entre chaves {}, dentro das chaves 'indice': variavel)"
   ]
  },
  {
   "cell_type": "code",
   "execution_count": 9,
   "id": "e162e5e1-10f9-41ac-814a-80349c1397b5",
   "metadata": {
    "tags": []
   },
   "outputs": [],
   "source": [
    "cadastro = {'nomes': nomes,'idades':idades,'cidade':['A','B','C']}"
   ]
  },
  {
   "cell_type": "code",
   "execution_count": 11,
   "id": "e52bdf1d-13b4-468f-a58c-2e4541f2f1e1",
   "metadata": {},
   "outputs": [
    {
     "name": "stdout",
     "output_type": "stream",
     "text": [
      "['Rafael', 'Maria', 'Ana']\n"
     ]
    }
   ],
   "source": [
    "print(cadastro['nomes'])"
   ]
  },
  {
   "cell_type": "code",
   "execution_count": 12,
   "id": "5eb4a8b5-3d65-4655-a0d1-8bef6110080d",
   "metadata": {},
   "outputs": [
    {
     "name": "stdout",
     "output_type": "stream",
     "text": [
      "Rafael\n"
     ]
    }
   ],
   "source": [
    "print(cadastro['nomes'][0])"
   ]
  },
  {
   "cell_type": "code",
   "execution_count": 14,
   "id": "47b3cb61-57ef-4310-81a2-e3706370b693",
   "metadata": {},
   "outputs": [
    {
     "name": "stdout",
     "output_type": "stream",
     "text": [
      "[10, 20, 15]\n"
     ]
    }
   ],
   "source": [
    "print(cadastro['idades'])"
   ]
  },
  {
   "cell_type": "code",
   "execution_count": 15,
   "id": "53386927-93ce-4c67-a630-b0fac7c4c84c",
   "metadata": {},
   "outputs": [
    {
     "data": {
      "text/plain": [
       "45"
      ]
     },
     "execution_count": 15,
     "metadata": {},
     "output_type": "execute_result"
    }
   ],
   "source": [
    "sum(cadastro['idades'])"
   ]
  }
 ],
 "metadata": {
  "kernelspec": {
   "display_name": "Python 3 (ipykernel)",
   "language": "python",
   "name": "python3"
  },
  "language_info": {
   "codemirror_mode": {
    "name": "ipython",
    "version": 3
   },
   "file_extension": ".py",
   "mimetype": "text/x-python",
   "name": "python",
   "nbconvert_exporter": "python",
   "pygments_lexer": "ipython3",
   "version": "3.10.2"
  }
 },
 "nbformat": 4,
 "nbformat_minor": 5
}
