{
 "cells": [
  {
   "cell_type": "markdown",
   "id": "b4bc4dad-8a22-458e-a011-c2ac85945d58",
   "metadata": {},
   "source": [
    "# Sessao 01"
   ]
  },
  {
   "cell_type": "code",
   "execution_count": 2,
   "id": "3028ea98-fcbc-4377-8a14-72dc3a1d8c04",
   "metadata": {},
   "outputs": [],
   "source": [
    "x = 1"
   ]
  },
  {
   "cell_type": "code",
   "execution_count": 7,
   "id": "a0ead0ea-c7a1-4eb0-a277-83b823b2f0ae",
   "metadata": {},
   "outputs": [],
   "source": [
    "y=3"
   ]
  },
  {
   "cell_type": "code",
   "execution_count": 8,
   "id": "c8d3add4-b911-4f66-8dc6-621546662607",
   "metadata": {
    "tags": []
   },
   "outputs": [
    {
     "name": "stdout",
     "output_type": "stream",
     "text": [
      "4\n"
     ]
    }
   ],
   "source": [
    "print(x+y)"
   ]
  },
  {
   "cell_type": "markdown",
   "id": "1ec217ff-593b-4f18-830d-2d3081cd8a1b",
   "metadata": {},
   "source": [
    "# Sessao 02"
   ]
  },
  {
   "cell_type": "code",
   "execution_count": 9,
   "id": "cd293d78-e5b3-4847-9b09-3c2a3dccf57d",
   "metadata": {
    "tags": []
   },
   "outputs": [],
   "source": [
    "z=4"
   ]
  },
  {
   "cell_type": "code",
   "execution_count": 10,
   "id": "2a651290-bea9-4659-93b6-0141a518cc75",
   "metadata": {},
   "outputs": [
    {
     "name": "stdout",
     "output_type": "stream",
     "text": [
      "12\n"
     ]
    }
   ],
   "source": [
    "print(z*y)"
   ]
  }
 ],
 "metadata": {
  "kernelspec": {
   "display_name": "Python 3 (ipykernel)",
   "language": "python",
   "name": "python3"
  },
  "language_info": {
   "codemirror_mode": {
    "name": "ipython",
    "version": 3
   },
   "file_extension": ".py",
   "mimetype": "text/x-python",
   "name": "python",
   "nbconvert_exporter": "python",
   "pygments_lexer": "ipython3",
   "version": "3.9.7"
  }
 },
 "nbformat": 4,
 "nbformat_minor": 5
}
