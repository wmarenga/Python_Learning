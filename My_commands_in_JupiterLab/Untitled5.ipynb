{
 "cells": [
  {
   "cell_type": "code",
   "execution_count": 1,
   "id": "adbe5bb3-be34-406f-9af7-be67500980b7",
   "metadata": {},
   "outputs": [],
   "source": [
    "import matplotlib.pyplot as plt "
   ]
  },
  {
   "cell_type": "code",
   "execution_count": 2,
   "id": "250633fa-e4ab-4f4b-b2a1-9b1fc8e881ac",
   "metadata": {},
   "outputs": [],
   "source": [
    "import pandas as pd"
   ]
  },
  {
   "cell_type": "code",
   "execution_count": 3,
   "id": "63f2c954-d306-4a9f-8560-d2b0791b1362",
   "metadata": {},
   "outputs": [],
   "source": [
    "caminho_arquivo ='D:/23) Programação/Cursos/Python/4) Python para Iniciantes (Direto ao que interessa)/Aula 32 (Graficos_Barras e Linhas)/leitura.xlsx'"
   ]
  },
  {
   "cell_type": "code",
   "execution_count": 4,
   "id": "f0e55078-829b-4556-ac9a-f4d9bf37db6f",
   "metadata": {},
   "outputs": [],
   "source": [
    "df = pd.read_excel(caminho_arquivo, sheet_name='dados')"
   ]
  },
  {
   "cell_type": "code",
   "execution_count": 5,
   "id": "990c9618-409a-4002-a32e-22642e2e2422",
   "metadata": {},
   "outputs": [
    {
     "name": "stdout",
     "output_type": "stream",
     "text": [
      "   tempo periodo  umidade  temperatura  risco_acidente\n",
      "0      1   manhã     0.40           50               1\n",
      "1      2   manhã     0.40           50               1\n",
      "2      3   manhã     0.40           49               1\n",
      "3      4   manhã     0.40           49               1\n",
      "4      5   manhã     0.41           48               1\n"
     ]
    }
   ],
   "source": [
    "print(df.head())"
   ]
  },
  {
   "cell_type": "code",
   "execution_count": 6,
   "id": "6f2dea83-cb8d-4af7-a916-9a5524ad93da",
   "metadata": {},
   "outputs": [],
   "source": [
    "x = df.tempo"
   ]
  },
  {
   "cell_type": "code",
   "execution_count": 7,
   "id": "a9b16b93-49d1-44bf-b8f4-95c4b35b0ba0",
   "metadata": {},
   "outputs": [],
   "source": [
    "y = df.temperatura"
   ]
  },
  {
   "cell_type": "code",
   "execution_count": 8,
   "id": "5c3e0176-4e05-4c87-b350-53bbf7c0e31b",
   "metadata": {},
   "outputs": [
    {
     "data": {
      "text/plain": [
       "[<matplotlib.lines.Line2D at 0x1315fdb6a00>]"
      ]
     },
     "execution_count": 8,
     "metadata": {},
     "output_type": "execute_result"
    },
    {
     "data": {
      "image/png": "[encoded data removed]",
      "text/plain": [
       "<Figure size 432x288 with 1 Axes>"
      ]
     },
     "metadata": {
      "needs_background": "light"
     },
     "output_type": "display_data"
    }
   ],
   "source": [
    "plt.plot(x,y)"
   ]
  },
  {
   "cell_type": "code",
   "execution_count": null,
   "id": "4f202c02-29ae-4fa7-984f-f784ccef3325",
   "metadata": {},
   "outputs": [],
   "source": []
  }
 ],
 "metadata": {
  "kernelspec": {
   "display_name": "Python 3 (ipykernel)",
   "language": "python",
   "name": "python3"
  },
  "language_info": {
   "codemirror_mode": {
    "name": "ipython",
    "version": 3
   },
   "file_extension": ".py",
   "mimetype": "text/x-python",
   "name": "python",
   "nbconvert_exporter": "python",
   "pygments_lexer": "ipython3",
   "version": "3.9.7"
  }
 },
 "nbformat": 4,
 "nbformat_minor": 5
}
