{
 "cells": [
  {
   "cell_type": "code",
   "execution_count": 1,
   "id": "d48be996-51df-4242-8bb6-9fd624ce6aa1",
   "metadata": {},
   "outputs": [],
   "source": [
    "import matplotlib.pyplot as plt "
   ]
  },
  {
   "cell_type": "code",
   "execution_count": 2,
   "id": "b59ca7a5-3f87-4189-be34-42b52cf3c6a4",
   "metadata": {},
   "outputs": [],
   "source": [
    "import pandas as pd"
   ]
  },
  {
   "cell_type": "code",
   "execution_count": 3,
   "id": "96936a18-2c4e-4aed-9481-9447ffa30cfe",
   "metadata": {},
   "outputs": [],
   "source": [
    "caminho_arquivo ='D:/23) Programação/Cursos/Python/4) Python para Iniciantes (Direto ao que interessa)/Aula 34 (Histograma)/leitura.xlsx'"
   ]
  },
  {
   "cell_type": "code",
   "execution_count": 4,
   "id": "68973ebe-27f0-40c1-bbeb-3d4f4bc09e63",
   "metadata": {},
   "outputs": [],
   "source": [
    "df = pd.read_excel(caminho_arquivo, sheet_name='dados')"
   ]
  },
  {
   "cell_type": "code",
   "execution_count": 5,
   "id": "dae00095-14d6-4b96-8ab2-0b6072b0310c",
   "metadata": {},
   "outputs": [
    {
     "name": "stdout",
     "output_type": "stream",
     "text": [
      "   tempo periodo  umidade  temperatura  risco_acidente\n",
      "0      1   manhã     0.40           50               1\n",
      "1      2   manhã     0.40           50               1\n",
      "2      3   manhã     0.40           49               1\n",
      "3      4   manhã     0.40           49               1\n",
      "4      5   manhã     0.41           48               1\n"
     ]
    }
   ],
   "source": [
    "print(df.head())"
   ]
  },
  {
   "cell_type": "code",
   "execution_count": 6,
   "id": "5e68619d-febf-444f-99a8-4064e718e83b",
   "metadata": {},
   "outputs": [],
   "source": [
    "import seaborn as sns"
   ]
  },
  {
   "cell_type": "code",
   "execution_count": 7,
   "id": "0efdfc8c-f7d0-48da-a1c3-04a58a0a55dc",
   "metadata": {},
   "outputs": [
    {
     "name": "stderr",
     "output_type": "stream",
     "text": [
      "C:\\Users\\Wellington\\anaconda3\\lib\\site-packages\\seaborn\\distributions.py:2619: FutureWarning: `distplot` is a deprecated function and will be removed in a future version. Please adapt your code to use either `displot` (a figure-level function with similar flexibility) or `histplot` (an axes-level function for histograms).\n",
      "  warnings.warn(msg, FutureWarning)\n"
     ]
    },
    {
     "data": {
      "text/plain": [
       "<AxesSubplot:xlabel='umidade', ylabel='Density'>"
      ]
     },
     "execution_count": 7,
     "metadata": {},
     "output_type": "execute_result"
    },
    {
     "data": {
      "image/png": "[encoded data removed]",
      "text/plain": [
       "<Figure size 432x288 with 1 Axes>"
      ]
     },
     "metadata": {
      "needs_background": "light"
     },
     "output_type": "display_data"
    }
   ],
   "source": [
    "sns.distplot(df.umidade)"
   ]
  },
  {
   "cell_type": "code",
   "execution_count": 8,
   "id": "28f559bf-61a6-4611-b21e-bb2b24da8289",
   "metadata": {},
   "outputs": [
    {
     "data": {
      "text/plain": [
       "<AxesSubplot:xlabel='umidade', ylabel='Count'>"
      ]
     },
     "execution_count": 8,
     "metadata": {},
     "output_type": "execute_result"
    },
    {
     "data": {
      "image/png": "[encoded data removed]",
      "text/plain": [
       "<Figure size 432x288 with 1 Axes>"
      ]
     },
     "metadata": {
      "needs_background": "light"
     },
     "output_type": "display_data"
    }
   ],
   "source": [
    "sns.histplot(df.umidade)"
   ]
  },
  {
   "cell_type": "code",
   "execution_count": null,
   "id": "c5146461-79b0-4c6e-9fb8-5fb171ebfb07",
   "metadata": {},
   "outputs": [],
   "source": []
  }
 ],
 "metadata": {
  "kernelspec": {
   "display_name": "Python 3 (ipykernel)",
   "language": "python",
   "name": "python3"
  },
  "language_info": {
   "codemirror_mode": {
    "name": "ipython",
    "version": 3
   },
   "file_extension": ".py",
   "mimetype": "text/x-python",
   "name": "python",
   "nbconvert_exporter": "python",
   "pygments_lexer": "ipython3",
   "version": "3.9.7"
  }
 },
 "nbformat": 4,
 "nbformat_minor": 5
}
