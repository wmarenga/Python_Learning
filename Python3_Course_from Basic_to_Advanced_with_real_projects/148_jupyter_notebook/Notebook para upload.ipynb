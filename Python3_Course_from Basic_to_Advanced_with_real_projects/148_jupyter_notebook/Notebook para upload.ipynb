{
 "cells": [
  {
   "cell_type": "code",
   "execution_count": 8,
   "metadata": {},
   "outputs": [
    {
     "name": "stdout",
     "output_type": "stream",
     "text": [
      "Hello world!\n"
     ]
    }
   ],
   "source": [
    "# Live code\n",
    "print('Hello world!')"
   ]
  },
  {
   "cell_type": "markdown",
   "metadata": {},
   "source": [
    "# Markdown - Como formatar seu texto\n",
    "Este será um texto onde posso explicar algo.\n",
    "\n",
    "Abaixo você está vendo um código multilinhas.\n",
    "```\n",
    "if True:\n",
    "    print('Hello world!')\n",
    "```\n",
    "Também pode ser interessante usar uma `palavra` como código.\n",
    "\n",
    "Você pode ter textos em *itálico* ou **negrito**.\n",
    "\n",
    "* Linha 1\n",
    "* Linha 2\n",
    "* Linha aninhada\n",
    "    - Outra coisa\n",
    "    - Mais uma linha\n",
    "* Retornando para lista normal\n",
    "\n",
    "Também pode ter listas enumeradas:\n",
    "1. Linha\n",
    "2. Linha\n",
    "    1. Aninhamento\n",
    "    2. Aninhamento\n",
    "    3. Aninhamento\n",
    "3. Linha\n",
    "4. Linha\n",
    "5. Linha\n",
    "\n",
    "Abaixo uma linha horizontal\n",
    "\n",
    "---\n",
    "\n",
    "Bloco de citação:\n",
    "\n",
    "> Um texto gigante no seu notebook.\n",
    ">\n",
    "> Mais uma linha do texto.\n",
    ">\n",
    "\n",
    "## Outro título\n",
    "\n",
    "Aqui você verá o [link do google](https://www.google.com.br)\n",
    "\n",
    "Abaixo uma tabela HTML:\n",
    "\n",
    "| Aqui temos uma tabela | Com mais uma coluna |\n",
    "|-----------------------|---------------------|\n",
    "| Aqui temos uma linha  | Outra coluna        |\n",
    "| Aqui temos uma linha  | Outra coluna        |\n",
    "| Aqui temos uma linha  | Outra coluna        |\n",
    "| Coluna                | Outra               | \n",
    "\n",
    "Por fim, você pode usar HTML puro também, rsrs.\n",
    "\n",
    "<h1>Isso é um título</h1>\n",
    "<p>Aqui vemos um &lt;p&gt;. Você pode usar qualquer tag HTML normal.\n"
   ]
  },
  {
   "cell_type": "markdown",
   "metadata": {},
   "source": [
    "# Abaixo você verá um vídeo do Youtube\n",
    "Poderia também adicionar um texto explicativo aqui."
   ]
  },
  {
   "cell_type": "code",
   "execution_count": 1,
   "metadata": {},
   "outputs": [
    {
     "data": {
      "text/html": [
       "<h1>Vídeo do youtube</h1>\n",
       "<iframe width=\"560\" height=\"315\" src=\"https://www.youtube.com/embed/bVMUGEEgEbg\" frameborder=\"0\"></iframe>\n"
      ],
      "text/plain": [
       "<IPython.core.display.HTML object>"
      ]
     },
     "metadata": {},
     "output_type": "display_data"
    }
   ],
   "source": [
    "%%HTML\n",
    "<h1>Vídeo do youtube</h1>\n",
    "<iframe width=\"560\" height=\"315\" src=\"https://www.youtube.com/embed/bVMUGEEgEbg\" frameborder=\"0\"></iframe>"
   ]
  },
  {
   "cell_type": "markdown",
   "metadata": {},
   "source": [
    "# Criando uma classe Python"
   ]
  },
  {
   "cell_type": "code",
   "execution_count": 10,
   "metadata": {},
   "outputs": [],
   "source": [
    "class Cliente:\n",
    "    def __init__(self, nome, sobrenome):\n",
    "        self.nome = nome\n",
    "        self.sobrenome = sobrenome\n",
    "        \n",
    "    def mostra_detalhes(self):\n",
    "        print(self.nome)\n",
    "        print(self.sobrenome)"
   ]
  },
  {
   "cell_type": "code",
   "execution_count": 11,
   "metadata": {},
   "outputs": [
    {
     "name": "stdout",
     "output_type": "stream",
     "text": [
      "Luiz Otávio\n",
      "Miranda\n"
     ]
    }
   ],
   "source": [
    "cliente = Cliente('Luiz Otávio', 'Miranda')\n",
    "cliente.mostra_detalhes()"
   ]
  },
  {
   "cell_type": "code",
   "execution_count": 2,
   "metadata": {},
   "outputs": [
    {
     "ename": "ModuleNotFoundError",
     "evalue": "No module named 'main'",
     "output_type": "error",
     "traceback": [
      "\u001b[1;31m---------------------------------------------------------------------------\u001b[0m",
      "\u001b[1;31mModuleNotFoundError\u001b[0m                       Traceback (most recent call last)",
      "Cell \u001b[1;32mIn [2], line 1\u001b[0m\n\u001b[1;32m----> 1\u001b[0m \u001b[38;5;28;01mimport\u001b[39;00m \u001b[38;5;21;01mmain\u001b[39;00m\n",
      "\u001b[1;31mModuleNotFoundError\u001b[0m: No module named 'main'"
     ]
    }
   ],
   "source": [
    "import main"
   ]
  },
  {
   "cell_type": "markdown",
   "metadata": {},
   "source": [
    "# Comandos do sistema"
   ]
  },
  {
   "cell_type": "code",
   "execution_count": 14,
   "metadata": {},
   "outputs": [
    {
     "name": "stdout",
     "output_type": "stream",
     "text": [
      "total 21K\r\n",
      "drwxrwxrwx 1 luizotavio luizotavio 4,0K jul  6 22:23  .\r\n",
      "drwxrwxrwx 1 luizotavio luizotavio 4,0K jul  4 05:32  ..\r\n",
      "drwxrwxrwx 1 luizotavio luizotavio 4,0K jul  6 22:24  .idea\r\n",
      "drwxrwxrwx 1 luizotavio luizotavio  200 jul  6 22:05  .ipynb_checkpoints\r\n",
      "-rwxrwxrwx 1 luizotavio luizotavio  280 jul  6 22:18  main.py\r\n",
      "-rwxrwxrwx 1 luizotavio luizotavio 4,4K jul  6 22:23 'Nome do notebook.ipynb'\r\n",
      "-rwxrwxrwx 1 luizotavio luizotavio  138 jun  2 21:29  Pipfile\r\n",
      "drwxrwxrwx 1 luizotavio luizotavio  168 jul  6 22:18  __pycache__\r\n",
      "-rwxrwxrwx 1 luizotavio luizotavio    0 jul  3 01:33  Requirements.txt\r\n"
     ]
    }
   ],
   "source": [
    "!ls -lah"
   ]
  },
  {
   "cell_type": "code",
   "execution_count": 15,
   "metadata": {},
   "outputs": [
    {
     "name": "stdout",
     "output_type": "stream",
     "text": [
      "512\t./.idea/inspectionProfiles\r\n",
      "26K\t./.idea\r\n",
      "4,0K\t./.ipynb_checkpoints\r\n",
      "512\t./__pycache__\r\n",
      "44K\t.\r\n"
     ]
    }
   ],
   "source": [
    "!du -h ."
   ]
  },
  {
   "cell_type": "markdown",
   "metadata": {},
   "source": [
    "# Gráficos"
   ]
  },
  {
   "cell_type": "code",
   "execution_count": 1,
   "metadata": {},
   "outputs": [
    {
     "data": {
      "image/png": "[encoded data removed]",
      "text/plain": [
       "<Figure size 640x480 with 1 Axes>"
      ]
     },
     "metadata": {},
     "output_type": "display_data"
    }
   ],
   "source": [
    "import matplotlib.path as mpath\n",
    "import matplotlib.patches as mpatches\n",
    "import matplotlib.pyplot as plt\n",
    "\n",
    "\n",
    "fig, ax = plt.subplots()\n",
    "\n",
    "Path = mpath.Path\n",
    "path_data = [\n",
    "    (Path.MOVETO, (1.58, -2.57)),\n",
    "    (Path.CURVE4, (0.35, -1.1)),\n",
    "    (Path.CURVE4, (-1.75, 2.0)),\n",
    "    (Path.CURVE4, (0.375, 2.0)),\n",
    "    (Path.LINETO, (0.85, 1.15)),\n",
    "    (Path.CURVE4, (2.2, 3.2)),\n",
    "    (Path.CURVE4, (3, 0.05)),\n",
    "    (Path.CURVE4, (2.0, -0.5)),\n",
    "    (Path.CLOSEPOLY, (1.58, -2.57)),\n",
    "    ]\n",
    "codes, verts = zip(*path_data)\n",
    "path = mpath.Path(verts, codes)\n",
    "patch = mpatches.PathPatch(path, facecolor='r', alpha=0.5)\n",
    "ax.add_patch(patch)\n",
    "\n",
    "# plot control points and connecting lines\n",
    "x, y = zip(*path.vertices)\n",
    "line, = ax.plot(x, y, 'go-')\n",
    "\n",
    "ax.grid()\n",
    "ax.axis('equal')\n",
    "plt.show()"
   ]
  },
  {
   "cell_type": "code",
   "execution_count": 1,
   "metadata": {},
   "outputs": [
    {
     "name": "stdout",
     "output_type": "stream",
     "text": [
      "3.31 ms ± 730 µs per loop (mean ± std. dev. of 7 runs, 100 loops each)\n"
     ]
    }
   ],
   "source": [
    "%%timeit\n",
    "lista = [x * 2 for x in range(100000)]"
   ]
  },
  {
   "cell_type": "markdown",
   "metadata": {},
   "source": [
    "# Exibindo Pandas Dataframe"
   ]
  },
  {
   "cell_type": "code",
   "execution_count": 2,
   "metadata": {},
   "outputs": [
    {
     "data": {
      "text/html": [
       "<div>\n",
       "<style scoped>\n",
       "    .dataframe tbody tr th:only-of-type {\n",
       "        vertical-align: middle;\n",
       "    }\n",
       "\n",
       "    .dataframe tbody tr th {\n",
       "        vertical-align: top;\n",
       "    }\n",
       "\n",
       "    .dataframe thead th {\n",
       "        text-align: right;\n",
       "    }\n",
       "</style>\n",
       "<table border=\"1\" class=\"dataframe\">\n",
       "  <thead>\n",
       "    <tr style=\"text-align: right;\">\n",
       "      <th></th>\n",
       "      <th>0</th>\n",
       "      <th>1</th>\n",
       "      <th>2</th>\n",
       "      <th>3</th>\n",
       "      <th>4</th>\n",
       "    </tr>\n",
       "  </thead>\n",
       "  <tbody>\n",
       "    <tr>\n",
       "      <th>0</th>\n",
       "      <td>0.152901</td>\n",
       "      <td>-1.537277</td>\n",
       "      <td>-0.235707</td>\n",
       "      <td>-0.190738</td>\n",
       "      <td>3.419461</td>\n",
       "    </tr>\n",
       "    <tr>\n",
       "      <th>1</th>\n",
       "      <td>0.475639</td>\n",
       "      <td>0.683890</td>\n",
       "      <td>0.700745</td>\n",
       "      <td>1.231972</td>\n",
       "      <td>-0.459907</td>\n",
       "    </tr>\n",
       "    <tr>\n",
       "      <th>2</th>\n",
       "      <td>0.646071</td>\n",
       "      <td>-1.146100</td>\n",
       "      <td>-1.361402</td>\n",
       "      <td>0.696825</td>\n",
       "      <td>2.363823</td>\n",
       "    </tr>\n",
       "    <tr>\n",
       "      <th>3</th>\n",
       "      <td>1.844485</td>\n",
       "      <td>-0.769034</td>\n",
       "      <td>0.079209</td>\n",
       "      <td>-1.575441</td>\n",
       "      <td>-2.988008</td>\n",
       "    </tr>\n",
       "    <tr>\n",
       "      <th>4</th>\n",
       "      <td>1.256136</td>\n",
       "      <td>0.855352</td>\n",
       "      <td>-0.796894</td>\n",
       "      <td>0.700853</td>\n",
       "      <td>-0.378735</td>\n",
       "    </tr>\n",
       "    <tr>\n",
       "      <th>5</th>\n",
       "      <td>0.051745</td>\n",
       "      <td>0.470430</td>\n",
       "      <td>-0.951121</td>\n",
       "      <td>0.495784</td>\n",
       "      <td>0.728605</td>\n",
       "    </tr>\n",
       "    <tr>\n",
       "      <th>6</th>\n",
       "      <td>-0.370441</td>\n",
       "      <td>-0.863507</td>\n",
       "      <td>-1.448867</td>\n",
       "      <td>-0.151241</td>\n",
       "      <td>0.394187</td>\n",
       "    </tr>\n",
       "    <tr>\n",
       "      <th>7</th>\n",
       "      <td>-1.583838</td>\n",
       "      <td>2.119249</td>\n",
       "      <td>0.238521</td>\n",
       "      <td>1.535152</td>\n",
       "      <td>0.127493</td>\n",
       "    </tr>\n",
       "    <tr>\n",
       "      <th>8</th>\n",
       "      <td>0.759246</td>\n",
       "      <td>-1.299576</td>\n",
       "      <td>0.170772</td>\n",
       "      <td>1.541646</td>\n",
       "      <td>-0.491567</td>\n",
       "    </tr>\n",
       "    <tr>\n",
       "      <th>9</th>\n",
       "      <td>0.975131</td>\n",
       "      <td>1.127712</td>\n",
       "      <td>0.704439</td>\n",
       "      <td>-1.097531</td>\n",
       "      <td>0.415803</td>\n",
       "    </tr>\n",
       "    <tr>\n",
       "      <th>10</th>\n",
       "      <td>1.102734</td>\n",
       "      <td>-1.371010</td>\n",
       "      <td>0.310976</td>\n",
       "      <td>-0.411251</td>\n",
       "      <td>0.185562</td>\n",
       "    </tr>\n",
       "    <tr>\n",
       "      <th>11</th>\n",
       "      <td>1.051860</td>\n",
       "      <td>-0.691948</td>\n",
       "      <td>-0.850199</td>\n",
       "      <td>-0.250279</td>\n",
       "      <td>-0.855949</td>\n",
       "    </tr>\n",
       "    <tr>\n",
       "      <th>12</th>\n",
       "      <td>-0.377566</td>\n",
       "      <td>0.486790</td>\n",
       "      <td>-0.135283</td>\n",
       "      <td>-1.167237</td>\n",
       "      <td>-0.191328</td>\n",
       "    </tr>\n",
       "    <tr>\n",
       "      <th>13</th>\n",
       "      <td>0.699623</td>\n",
       "      <td>-1.285073</td>\n",
       "      <td>0.308519</td>\n",
       "      <td>0.605573</td>\n",
       "      <td>1.231715</td>\n",
       "    </tr>\n",
       "    <tr>\n",
       "      <th>14</th>\n",
       "      <td>-1.806672</td>\n",
       "      <td>-1.506315</td>\n",
       "      <td>0.536337</td>\n",
       "      <td>1.096525</td>\n",
       "      <td>-0.378421</td>\n",
       "    </tr>\n",
       "    <tr>\n",
       "      <th>15</th>\n",
       "      <td>0.111720</td>\n",
       "      <td>-0.707213</td>\n",
       "      <td>0.541567</td>\n",
       "      <td>-1.611152</td>\n",
       "      <td>1.047165</td>\n",
       "    </tr>\n",
       "    <tr>\n",
       "      <th>16</th>\n",
       "      <td>-0.329775</td>\n",
       "      <td>0.990661</td>\n",
       "      <td>1.459988</td>\n",
       "      <td>0.103232</td>\n",
       "      <td>0.133349</td>\n",
       "    </tr>\n",
       "    <tr>\n",
       "      <th>17</th>\n",
       "      <td>-2.240773</td>\n",
       "      <td>0.932570</td>\n",
       "      <td>-0.290882</td>\n",
       "      <td>0.035425</td>\n",
       "      <td>0.331374</td>\n",
       "    </tr>\n",
       "  </tbody>\n",
       "</table>\n",
       "</div>"
      ],
      "text/plain": [
       "           0         1         2         3         4\n",
       "0   0.152901 -1.537277 -0.235707 -0.190738  3.419461\n",
       "1   0.475639  0.683890  0.700745  1.231972 -0.459907\n",
       "2   0.646071 -1.146100 -1.361402  0.696825  2.363823\n",
       "3   1.844485 -0.769034  0.079209 -1.575441 -2.988008\n",
       "4   1.256136  0.855352 -0.796894  0.700853 -0.378735\n",
       "5   0.051745  0.470430 -0.951121  0.495784  0.728605\n",
       "6  -0.370441 -0.863507 -1.448867 -0.151241  0.394187\n",
       "7  -1.583838  2.119249  0.238521  1.535152  0.127493\n",
       "8   0.759246 -1.299576  0.170772  1.541646 -0.491567\n",
       "9   0.975131  1.127712  0.704439 -1.097531  0.415803\n",
       "10  1.102734 -1.371010  0.310976 -0.411251  0.185562\n",
       "11  1.051860 -0.691948 -0.850199 -0.250279 -0.855949\n",
       "12 -0.377566  0.486790 -0.135283 -1.167237 -0.191328\n",
       "13  0.699623 -1.285073  0.308519  0.605573  1.231715\n",
       "14 -1.806672 -1.506315  0.536337  1.096525 -0.378421\n",
       "15  0.111720 -0.707213  0.541567 -1.611152  1.047165\n",
       "16 -0.329775  0.990661  1.459988  0.103232  0.133349\n",
       "17 -2.240773  0.932570 -0.290882  0.035425  0.331374"
      ]
     },
     "execution_count": 2,
     "metadata": {},
     "output_type": "execute_result"
    }
   ],
   "source": [
    "import pandas as pd\n",
    "import numpy as np\n",
    "\n",
    "df = pd.DataFrame(np.random.randn(18,5))\n",
    "df"
   ]
  },
  {
   "cell_type": "code",
   "execution_count": null,
   "metadata": {},
   "outputs": [],
   "source": []
  }
 ],
 "metadata": {
  "kernelspec": {
   "display_name": "Python 3 (ipykernel)",
   "language": "python",
   "name": "python3"
  },
  "language_info": {
   "codemirror_mode": {
    "name": "ipython",
    "version": 3
   },
   "file_extension": ".py",
   "mimetype": "text/x-python",
   "name": "python",
   "nbconvert_exporter": "python",
   "pygments_lexer": "ipython3",
   "version": "3.10.6"
  },
  "vscode": {
   "interpreter": {
    "hash": "e28c475cf537a6cf51ec5a5cdaa2ef39571b7760e684d894323384f7232dcc3e"
   }
  }
 },
 "nbformat": 4,
 "nbformat_minor": 2
}
