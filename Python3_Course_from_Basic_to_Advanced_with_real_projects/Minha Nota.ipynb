{
 "cells": [
  {
   "cell_type": "code",
   "execution_count": 1,
   "id": "2b6cf61f",
   "metadata": {},
   "outputs": [],
   "source": [
    "lista = [1, 2, 3, 4, 5, 6, 7, 8, 9, 10]"
   ]
  },
  {
   "cell_type": "code",
   "execution_count": 14,
   "id": "d77fe696",
   "metadata": {},
   "outputs": [],
   "source": [
    "a = 5\n",
    "b = 6"
   ]
  },
  {
   "cell_type": "code",
   "execution_count": 15,
   "id": "89a529d4",
   "metadata": {},
   "outputs": [
    {
     "data": {
      "text/plain": [
       "11"
      ]
     },
     "execution_count": 15,
     "metadata": {},
     "output_type": "execute_result"
    }
   ],
   "source": [
    "a + b"
   ]
  },
  {
   "cell_type": "markdown",
   "id": "1f618242",
   "metadata": {},
   "source": [
    "# Este é meu título\n",
    "Este é meu texto\n",
    "## Este é meu subtítulo\n",
    "Este é outro texto\n",
    "\n",
    "* Uma linha\n",
    "* Outra linha\n",
    "* Outra linha"
   ]
  },
  {
   "cell_type": "code",
   "execution_count": 16,
   "id": "3e0e2f5e",
   "metadata": {},
   "outputs": [
    {
     "data": {
      "text/html": [
       "<p>Um <strong>texto</strong> qualquer</p>\n"
      ],
      "text/plain": [
       "<IPython.core.display.HTML object>"
      ]
     },
     "metadata": {},
     "output_type": "display_data"
    }
   ],
   "source": [
    "%%HTML\n",
    "<p>Um <strong>texto</strong> qualquer</p>"
   ]
  },
  {
   "cell_type": "code",
   "execution_count": null,
   "id": "82ad3fb0",
   "metadata": {},
   "outputs": [],
   "source": []
  }
 ],
 "metadata": {
  "kernelspec": {
   "display_name": "Python 3 (ipykernel)",
   "language": "python",
   "name": "python3"
  },
  "language_info": {
   "codemirror_mode": {
    "name": "ipython",
    "version": 3
   },
   "file_extension": ".py",
   "mimetype": "text/x-python",
   "name": "python",
   "nbconvert_exporter": "python",
   "pygments_lexer": "ipython3",
   "version": "3.10.6"
  }
 },
 "nbformat": 4,
 "nbformat_minor": 5
}
