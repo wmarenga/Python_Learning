{
 "cells": [
  {
   "cell_type": "code",
   "execution_count": 1,
   "id": "hazardous-brooklyn",
   "metadata": {},
   "outputs": [],
   "source": [
    "import pandas as pd\n",
    "import numpy as np"
   ]
  },
  {
   "cell_type": "code",
   "execution_count": 4,
   "id": "removed-boundary",
   "metadata": {},
   "outputs": [
    {
     "data": {
      "text/plain": [
       "array([[1, 'Lavinia Sousa', 'F', 18],\n",
       "       [2, 'Caio Pereira', 'M', 28],\n",
       "       [3, 'Júlio Azevedo', 'M', 32],\n",
       "       ...,\n",
       "       [998, 'Lara Oliveira', 'F', 24],\n",
       "       [999, 'Julian Cunha', 'M', 43],\n",
       "       [1000, 'Gustavo Barbosa', 'M', 23]], dtype=object)"
      ]
     },
     "execution_count": 4,
     "metadata": {},
     "output_type": "execute_result"
    }
   ],
   "source": [
    "pessoas = np.array(pd.read_excel('caso_estudo.xlsx', sheet_name='pessoas'))\n",
    "pessoas"
   ]
  },
  {
   "cell_type": "code",
   "execution_count": 6,
   "id": "employed-negative",
   "metadata": {},
   "outputs": [
    {
     "data": {
      "text/plain": [
       "33909"
      ]
     },
     "execution_count": 6,
     "metadata": {},
     "output_type": "execute_result"
    }
   ],
   "source": [
    "np.sum(pessoas[:,3])"
   ]
  },
  {
   "cell_type": "code",
   "execution_count": 11,
   "id": "saved-tuition",
   "metadata": {},
   "outputs": [
    {
     "data": {
      "text/plain": [
       "array(['Lavinia Sousa', 'F'], dtype=object)"
      ]
     },
     "execution_count": 11,
     "metadata": {},
     "output_type": "execute_result"
    }
   ],
   "source": [
    "pessoas[0,1:3]"
   ]
  }
 ],
 "metadata": {
  "kernelspec": {
   "display_name": "Python 3",
   "language": "python",
   "name": "python3"
  },
  "language_info": {
   "codemirror_mode": {
    "name": "ipython",
    "version": 3
   },
   "file_extension": ".py",
   "mimetype": "text/x-python",
   "name": "python",
   "nbconvert_exporter": "python",
   "pygments_lexer": "ipython3",
   "version": "3.8.5"
  }
 },
 "nbformat": 4,
 "nbformat_minor": 5
}
