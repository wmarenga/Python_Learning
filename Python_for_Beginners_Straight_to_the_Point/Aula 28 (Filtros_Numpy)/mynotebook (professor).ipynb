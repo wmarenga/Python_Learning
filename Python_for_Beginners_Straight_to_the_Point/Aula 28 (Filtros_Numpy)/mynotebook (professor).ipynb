{
 "cells": [
  {
   "cell_type": "code",
   "execution_count": 12,
   "id": "level-saturn",
   "metadata": {},
   "outputs": [],
   "source": [
    "import pandas as pd\n",
    "import numpy as np"
   ]
  },
  {
   "cell_type": "code",
   "execution_count": 13,
   "id": "verbal-robert",
   "metadata": {},
   "outputs": [
    {
     "data": {
      "text/plain": [
       "array([[1, 'Lavinia Sousa', 'F', 18],\n",
       "       [2, 'Caio Pereira', 'M', 28],\n",
       "       [3, 'Júlio Azevedo', 'M', 32],\n",
       "       ...,\n",
       "       [998, 'Lara Oliveira', 'F', 24],\n",
       "       [999, 'Julian Cunha', 'M', 43],\n",
       "       [1000, 'Gustavo Barbosa', 'M', 23]], dtype=object)"
      ]
     },
     "execution_count": 13,
     "metadata": {},
     "output_type": "execute_result"
    }
   ],
   "source": [
    "pessoas = np.array(pd.read_excel('caso_estudo.xlsx', sheet_name='pessoas'))\n",
    "pessoas"
   ]
  },
  {
   "cell_type": "code",
   "execution_count": 14,
   "id": "lightweight-ferry",
   "metadata": {},
   "outputs": [
    {
     "data": {
      "text/plain": [
       "33909"
      ]
     },
     "execution_count": 14,
     "metadata": {},
     "output_type": "execute_result"
    }
   ],
   "source": [
    "np.sum(pessoas[:,3])"
   ]
  },
  {
   "cell_type": "code",
   "execution_count": 15,
   "id": "contemporary-giving",
   "metadata": {},
   "outputs": [
    {
     "data": {
      "text/plain": [
       "34.05577689243028"
      ]
     },
     "execution_count": 15,
     "metadata": {},
     "output_type": "execute_result"
    }
   ],
   "source": [
    "np.mean(pessoas[pessoas[:,2]=='M',3])"
   ]
  }
 ],
 "metadata": {
  "kernelspec": {
   "display_name": "Python 3",
   "language": "python",
   "name": "python3"
  },
  "language_info": {
   "codemirror_mode": {
    "name": "ipython",
    "version": 3
   },
   "file_extension": ".py",
   "mimetype": "text/x-python",
   "name": "python",
   "nbconvert_exporter": "python",
   "pygments_lexer": "ipython3",
   "version": "3.8.5"
  }
 },
 "nbformat": 4,
 "nbformat_minor": 5
}
