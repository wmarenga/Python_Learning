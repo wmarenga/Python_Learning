{
 "cells": [
  {
   "cell_type": "code",
   "execution_count": 2,
   "id": "07818c60-bfd4-407d-83fb-0790e0fcdbe7",
   "metadata": {
    "tags": []
   },
   "outputs": [],
   "source": [
    "nomes = ['Rafael', 'Maria', 'Ana']\n",
    "idades = [10,20,15]\n",
    "sexo = ('M','F','O')\n",
    "cadastro = {'nomes': nomes,'idades':idades,'cidade':['A','B','C']}"
   ]
  },
  {
   "cell_type": "markdown",
   "id": "dbf1fc5d-3d35-4721-a76d-293de7490cb7",
   "metadata": {},
   "source": [
    "1) FOR:"
   ]
  },
  {
   "cell_type": "code",
   "execution_count": 3,
   "id": "dbae8208-cd45-4ce8-aa63-ab705a0630c7",
   "metadata": {},
   "outputs": [
    {
     "name": "stdout",
     "output_type": "stream",
     "text": [
      "Rafael\n",
      "Maria\n",
      "Ana\n"
     ]
    }
   ],
   "source": [
    "for nome in nomes:\n",
    "    print(nome)"
   ]
  },
  {
   "cell_type": "markdown",
   "id": "82c9c801-d373-4cab-bf6d-6f91be24b3c4",
   "metadata": {},
   "source": [
    "2) IF:"
   ]
  },
  {
   "cell_type": "code",
   "execution_count": 6,
   "id": "3411314b-806a-4dcc-a2f8-356dca5014c1",
   "metadata": {},
   "outputs": [
    {
     "name": "stdout",
     "output_type": "stream",
     "text": [
      "10\n",
      "20\n"
     ]
    }
   ],
   "source": [
    "for idade in idades:\n",
    "    if idade%2==0:\n",
    "        print(idade)"
   ]
  },
  {
   "cell_type": "code",
   "execution_count": 7,
   "id": "965b333a-5729-4860-9d17-96dc3d7e8891",
   "metadata": {},
   "outputs": [
    {
     "name": "stdout",
     "output_type": "stream",
     "text": [
      "0\n",
      "1\n",
      "2\n",
      "3\n",
      "4\n",
      "5\n",
      "6\n",
      "7\n",
      "8\n",
      "9\n"
     ]
    }
   ],
   "source": [
    "for i in range(0,10):\n",
    "    print(i)"
   ]
  },
  {
   "cell_type": "markdown",
   "id": "510fdde6-12d6-4e1b-a26b-c6abebbfc410",
   "metadata": {},
   "source": [
    "2) WHILE:"
   ]
  },
  {
   "cell_type": "code",
   "execution_count": 22,
   "id": "bbc17bba-8c59-4a7e-b768-f605df70e9a2",
   "metadata": {},
   "outputs": [
    {
     "name": "stdout",
     "output_type": "stream",
     "text": [
      "10\n"
     ]
    }
   ],
   "source": [
    "i = 0\n",
    "idade = idades[i]\n",
    "while idade <= 10:\n",
    "    print(idade)\n",
    "    i += 1\n",
    "    idade = idades[i]"
   ]
  },
  {
   "cell_type": "code",
   "execution_count": null,
   "id": "48a8446e-87c0-434d-9f16-98c745d14f8d",
   "metadata": {},
   "outputs": [],
   "source": []
  },
  {
   "cell_type": "code",
   "execution_count": null,
   "id": "8808c949-8fa0-4298-89f9-f80262081185",
   "metadata": {},
   "outputs": [],
   "source": []
  }
 ],
 "metadata": {
  "kernelspec": {
   "display_name": "Python 3 (ipykernel)",
   "language": "python",
   "name": "python3"
  },
  "language_info": {
   "codemirror_mode": {
    "name": "ipython",
    "version": 3
   },
   "file_extension": ".py",
   "mimetype": "text/x-python",
   "name": "python",
   "nbconvert_exporter": "python",
   "pygments_lexer": "ipython3",
   "version": "3.10.2"
  }
 },
 "nbformat": 4,
 "nbformat_minor": 5
}
